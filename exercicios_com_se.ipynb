{
 "cells": [
  {
   "cell_type": "markdown",
   "metadata": {},
   "source": [
    "# Exercícios com condições"
   ]
  },
  {
   "cell_type": "markdown",
   "metadata": {},
   "source": [
    "1. Ler um numero e mostrar se é par ou impar."
   ]
  },
  {
   "cell_type": "markdown",
   "metadata": {},
   "source": [
    "2. Um programa que leia dois valores e mostre a\n",
    "a diferença entre eles indicando se é positiva\n",
    "ou negativa."
   ]
  },
  {
   "cell_type": "markdown",
   "metadata": {},
   "source": [
    "3. Ler três valores e mostrar o maior."
   ]
  },
  {
   "cell_type": "markdown",
   "metadata": {},
   "source": [
    "4. Sendo pedidos ao utilizador o dia, o mês e o ano corrente, calcular quantos dias faltam para o fim do mês."
   ]
  },
  {
   "cell_type": "markdown",
   "metadata": {},
   "source": [
    "5. Calcular se um ano é bissexto."
   ]
  },
  {
   "cell_type": "markdown",
   "metadata": {},
   "source": [
    "6. Ler o nº de rapazes e o nº de raparigas, calcular a percentagem de cada género e indicar qual o género com maior número de pessoas."
   ]
  },
  {
   "cell_type": "markdown",
   "metadata": {},
   "source": [
    "7. Ler a idade de uma pessoa e mostrar a mensagem correspondente ao intervalo da idade\n",
    "\n",
    "|Intervalo da idade | Fase         |\n",
    "|-------------------|--------------|\n",
    "| De 0 a 11         | Infância     |\n",
    "| De 12 a 20        | Adolescência |\n",
    "| De 21 a 74        | Adulta       |\n",
    "| De 75 a 120       | Velhice      |\n",
    "\n",
    "Se a idade for inferior a 0 ou superior a 120 deve mostrar uma mensagem de erro."
   ]
  }
 ],
 "metadata": {
  "language_info": {
   "name": "python"
  }
 },
 "nbformat": 4,
 "nbformat_minor": 2
}

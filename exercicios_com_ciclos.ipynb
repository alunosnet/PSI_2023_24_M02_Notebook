{
 "cells": [
  {
   "cell_type": "markdown",
   "metadata": {},
   "source": [
    "## Exercícios"
   ]
  },
  {
   "cell_type": "markdown",
   "metadata": {},
   "source": [
    "1. Um número primo é um valor que não tem divisores, excepto 1 e ele próprio.\n",
    "Preparar um algoritmo que leia um número e determine se é ou não primo."
   ]
  },
  {
   "cell_type": "code",
   "execution_count": null,
   "metadata": {
    "vscode": {
     "languageId": "plaintext"
    }
   },
   "outputs": [],
   "source": [
    "# Exercício 1"
   ]
  },
  {
   "cell_type": "markdown",
   "metadata": {},
   "source": [
    "2. Multiplicar dois números sem utilizar multiplicação."
   ]
  },
  {
   "cell_type": "code",
   "execution_count": null,
   "metadata": {
    "vscode": {
     "languageId": "plaintext"
    }
   },
   "outputs": [],
   "source": [
    "# Exercício 2"
   ]
  },
  {
   "cell_type": "markdown",
   "metadata": {},
   "source": [
    "3. Ler 10 valores e mostrar os que são >10 e <100"
   ]
  },
  {
   "cell_type": "code",
   "execution_count": null,
   "metadata": {
    "vscode": {
     "languageId": "plaintext"
    }
   },
   "outputs": [],
   "source": [
    "# Exercício 3"
   ]
  },
  {
   "cell_type": "markdown",
   "metadata": {},
   "source": [
    "4. Um utilizador introduz um valor secreto o qual deve ser descoberto\n",
    "por um 2º utilizador (também pode ser o computador a sortear o nº secreto). Este tem 5 oportunidades para descobrir qual\n",
    "é o número. A cada tentativa deve-se indicar se o número pretendido\n",
    "é superior ou inferior ao introduzido.\n",
    "Caso ao fim das 5 oportunidades não descobrir o valor deve-se mostrar\n",
    "o valor pretendido."
   ]
  },
  {
   "cell_type": "code",
   "execution_count": null,
   "metadata": {
    "vscode": {
     "languageId": "plaintext"
    }
   },
   "outputs": [],
   "source": [
    "# Exercício 4"
   ]
  },
  {
   "cell_type": "markdown",
   "metadata": {},
   "source": [
    "5. Numa turma de n alunos, calcular o numero de positivas e negativas.\n",
    "Pedir o numero de alunos no inicio."
   ]
  },
  {
   "cell_type": "code",
   "execution_count": null,
   "metadata": {
    "vscode": {
     "languageId": "plaintext"
    }
   },
   "outputs": [],
   "source": [
    "# Exercício 5"
   ]
  },
  {
   "cell_type": "markdown",
   "metadata": {},
   "source": [
    "6. Uma empresa possui duas lojas, o programa deve ler as vendas das\n",
    "duas lojas ao longo de 6 meses e indicar para cada mês qual das\n",
    "duas lojas vendeu mais."
   ]
  },
  {
   "cell_type": "code",
   "execution_count": null,
   "metadata": {
    "vscode": {
     "languageId": "plaintext"
    }
   },
   "outputs": [],
   "source": [
    "# Exercício 6"
   ]
  },
  {
   "cell_type": "markdown",
   "metadata": {},
   "source": [
    "7. Uma empresa possui duas lojas, o programa deve ler as vendas das\n",
    "duas lojas ao longo de 6 meses e indicar no final a média das\n",
    "vendas de cada loja e total de vendas das duas lojas."
   ]
  },
  {
   "cell_type": "code",
   "execution_count": null,
   "metadata": {
    "vscode": {
     "languageId": "plaintext"
    }
   },
   "outputs": [],
   "source": [
    "# Exercício 7"
   ]
  },
  {
   "cell_type": "markdown",
   "metadata": {},
   "source": [
    "8. Dado um número inteiro determinar os seus divisores."
   ]
  },
  {
   "cell_type": "code",
   "execution_count": null,
   "metadata": {
    "vscode": {
     "languageId": "plaintext"
    }
   },
   "outputs": [],
   "source": [
    "# Exercício 8"
   ]
  },
  {
   "cell_type": "markdown",
   "metadata": {},
   "source": [
    "9. Fazer um programa que apresenta um menu com as opções 1.Somar; 2.Dividir; 3.Multiplicar; 4.Subtrair; 5.Sair.\n",
    "O programa deve ler a opção do utilizar. Caso a opção seja diferente de 5 de seguida deve ler dois valores e realizar a operação escolhida. Após apresentar o resultado da operação deve voltar ao menu. O programa só deve terminar se o utilizador escolher a opção 5."
   ]
  },
  {
   "cell_type": "code",
   "execution_count": null,
   "metadata": {
    "vscode": {
     "languageId": "plaintext"
    }
   },
   "outputs": [],
   "source": [
    "# Exercício 9"
   ]
  },
  {
   "cell_type": "markdown",
   "metadata": {},
   "source": [
    "10. O Sr. Joaquim tem um lagar de azeite e pretende otimizar a sua utilização. Para isso precisa de um programa que lhe permita inserir a capacidade (em litros) do lagar, esse valor representa o valor máximo que não pode ser excedido, antes de colocar o lagar em produção vai padicionar os litros por cliente sem exceder a capacidade. De cada vez que são inseridos litros de um cliente o programa deve mostrar quantos clientes já foram adicionados e a capacidade utilizada e restante do lagar. O programa deve terminar quando o utilizador inserir 0 (zero)."
   ]
  },
  {
   "cell_type": "code",
   "execution_count": null,
   "metadata": {
    "vscode": {
     "languageId": "plaintext"
    }
   },
   "outputs": [],
   "source": [
    "# Exercício 10\n"
   ]
  },
  {
   "cell_type": "markdown",
   "metadata": {},
   "source": [
    "11. Jogo mastermind. Um utilizador insere um sequência de 4 algarismos. Outro utilizador vai tentar descobrir essa sequência. Para o ajudar a cada tentativa deve ser indicado para cada algarismo se está correto, se está correto mas na posição errada ou se está errada."
   ]
  },
  {
   "cell_type": "code",
   "execution_count": null,
   "metadata": {
    "vscode": {
     "languageId": "plaintext"
    }
   },
   "outputs": [],
   "source": [
    "# Exercício 11"
   ]
  }
 ],
 "metadata": {
  "language_info": {
   "name": "python"
  }
 },
 "nbformat": 4,
 "nbformat_minor": 2
}

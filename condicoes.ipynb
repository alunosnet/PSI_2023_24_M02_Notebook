{
 "cells": [
  {
   "cell_type": "markdown",
   "metadata": {},
   "source": [
    "# Estruturas de decisão ou seleção"
   ]
  },
  {
   "cell_type": "markdown",
   "metadata": {},
   "source": [
    "## Estrutura de decisão/seleção simples"
   ]
  },
  {
   "cell_type": "markdown",
   "metadata": {},
   "source": [
    "Nesta situação um bloco de código só será executado caso uma determinada condição resulte ser verdadeira (True)."
   ]
  },
  {
   "cell_type": "code",
   "execution_count": null,
   "metadata": {},
   "outputs": [],
   "source": [
    "nome = input(\"Introduza o seu nome:\")\n",
    "peso =float(input(\"Introduza o seu peso:\"))\n",
    "if peso < 70:\n",
    "    dif = 70 - peso\n",
    "    print(\"Falta ao %s %.2f Kg para atingir os 70Kg\"%(nome,dif))\n",
    "print(\"O programa vai terminar\")"
   ]
  },
  {
   "cell_type": "markdown",
   "metadata": {},
   "source": [
    "## Estrutura de decisão/seleção composta"
   ]
  },
  {
   "cell_type": "markdown",
   "metadata": {},
   "source": [
    "Nesta estrutura existe um bloco de código que é executado caso a condição resulte verdadeira (True) e outro bloco de código que será executado caso a condição resulte falsa (False)"
   ]
  },
  {
   "cell_type": "code",
   "execution_count": null,
   "metadata": {},
   "outputs": [],
   "source": [
    "num1 = int(input(\"Introduza um valor inteiro:\"))\n",
    "num2 = int(input(\"Introduza um valor inteiro, diferente do anterior:\"))\n",
    "if num1 > num2:\n",
    "    maior = num1\n",
    "else:\n",
    "    maior = num2\n",
    "print(\"O maior dos dois números é %d\"%maior)"
   ]
  },
  {
   "cell_type": "markdown",
   "metadata": {},
   "source": [
    "## Estrutura de seleção encadeada"
   ]
  },
  {
   "cell_type": "markdown",
   "metadata": {},
   "source": [
    "Esta estrutura permite testar sucessivamente várias condições."
   ]
  },
  {
   "cell_type": "code",
   "execution_count": null,
   "metadata": {},
   "outputs": [],
   "source": [
    "num1 = int(input(\"Introduza um valor inteiro:\"))\n",
    "num2 = int(input(\"Introduza um valor inteiro:\"))\n",
    "if num1 == num2:\n",
    "    print(\"Valores são iguais\")\n",
    "elif num1>num2:\n",
    "    print(\"%d é maior do que %d\"%(num1,num2))\n",
    "else:\n",
    "    print(\"%d é maior do que %d\"%(num2,num1))"
   ]
  },
  {
   "cell_type": "markdown",
   "metadata": {},
   "source": [
    "## Estrutura de seleção múltipla"
   ]
  },
  {
   "cell_type": "markdown",
   "metadata": {},
   "source": [
    "Esta estrutura só é válida para a versão 3.10 ou superior do Python"
   ]
  },
  {
   "cell_type": "code",
   "execution_count": null,
   "metadata": {},
   "outputs": [],
   "source": [
    "dia = int(input(\"Insira um número inteiro de 1 a 7:\"))\n",
    "match dia:\n",
    "    case 1:\n",
    "        print(\"Segunda-feira\")\n",
    "    case 2:\n",
    "        print(\"Terça-feira\")\n",
    "    case 3:\n",
    "        print(\"Quarta-feira\")\n",
    "    case 4:\n",
    "        print(\"Quinta-feira\")\n",
    "    case 5:\n",
    "        print(\"Sexta-feira\")\n",
    "    case 6:\n",
    "        print(\"Sábado\")\n",
    "    case 7:\n",
    "        print(\"Domingo\")\n",
    "    case _:\n",
    "        print(\"O valor indicado não é válido\")"
   ]
  }
 ],
 "metadata": {
  "kernelspec": {
   "display_name": "Python 3",
   "language": "python",
   "name": "python3"
  },
  "language_info": {
   "codemirror_mode": {
    "name": "ipython",
    "version": 3
   },
   "file_extension": ".py",
   "mimetype": "text/x-python",
   "name": "python",
   "nbconvert_exporter": "python",
   "pygments_lexer": "ipython3",
   "version": "3.10.11"
  }
 },
 "nbformat": 4,
 "nbformat_minor": 2
}
